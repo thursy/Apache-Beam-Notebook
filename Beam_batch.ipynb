{
  "nbformat": 4,
  "nbformat_minor": 0,
  "metadata": {
    "colab": {
      "provenance": [],
      "mount_file_id": "1-SssElbzc_MX81_bgqAUvvlSW5Nc3Zi2",
      "authorship_tag": "ABX9TyN+bIDBUDqY/EaQa5aWbBZD",
      "include_colab_link": true
    },
    "kernelspec": {
      "name": "python3",
      "display_name": "Python 3"
    },
    "language_info": {
      "name": "python"
    }
  },
  "cells": [
    {
      "cell_type": "markdown",
      "metadata": {
        "id": "view-in-github",
        "colab_type": "text"
      },
      "source": [
        "<a href=\"https://colab.research.google.com/github/thursy/Apache-Beam-Notebook/blob/main/Beam_batch.ipynb\" target=\"_parent\"><img src=\"https://colab.research.google.com/assets/colab-badge.svg\" alt=\"Open In Colab\"/></a>"
      ]
    },
    {
      "cell_type": "markdown",
      "source": [
        "# Installing the Apache Beam\n",
        "\n",
        "Apache beam is a unified programming model that can build portable ETL pipelines for BigData\n",
        "- Unified: enable to dealing the batch and streaming data in the same way.\n",
        "  *Batch* (the data that is completed and can be loaded as a whole one time). \n",
        "  *Streaming* (real-time data, the data hasn't complete yet, new data emerge every time)\n",
        "\n",
        "- portable: once you write your apache beam code you can run it on any execution engine such as: Spark, Flink, Samza"
      ],
      "metadata": {
        "id": "RBXlx3HT_4yt"
      }
    },
    {
      "cell_type": "code",
      "execution_count": null,
      "metadata": {
        "colab": {
          "base_uri": "https://localhost:8080/"
        },
        "id": "fyOiaY-P0sX1",
        "outputId": "00baf95e-61ec-49ab-e9ad-b6e4386bcfe4"
      },
      "outputs": [
        {
          "output_type": "stream",
          "name": "stdout",
          "text": [
            "Looking in indexes: https://pypi.org/simple, https://us-python.pkg.dev/colab-wheels/public/simple/\n",
            "Collecting apache_beam\n",
            "  Downloading apache_beam-2.46.0-cp39-cp39-manylinux_2_17_x86_64.manylinux2014_x86_64.whl (14.5 MB)\n",
            "\u001b[2K     \u001b[90m━━━━━━━━━━━━━━━━━━━━━━━━━━━━━━━━━━━━━━━━\u001b[0m \u001b[32m14.5/14.5 MB\u001b[0m \u001b[31m37.2 MB/s\u001b[0m eta \u001b[36m0:00:00\u001b[0m\n",
            "\u001b[?25hCollecting fasteners<1.0,>=0.3\n",
            "  Downloading fasteners-0.18-py3-none-any.whl (18 kB)\n",
            "Requirement already satisfied: pytz>=2018.3 in /usr/local/lib/python3.9/dist-packages (from apache_beam) (2022.7.1)\n",
            "Requirement already satisfied: typing-extensions>=3.7.0 in /usr/local/lib/python3.9/dist-packages (from apache_beam) (4.5.0)\n",
            "Requirement already satisfied: cloudpickle~=2.2.1 in /usr/local/lib/python3.9/dist-packages (from apache_beam) (2.2.1)\n",
            "Requirement already satisfied: proto-plus<2,>=1.7.1 in /usr/local/lib/python3.9/dist-packages (from apache_beam) (1.22.2)\n",
            "Requirement already satisfied: protobuf<4,>3.12.2 in /usr/local/lib/python3.9/dist-packages (from apache_beam) (3.20.3)\n",
            "Requirement already satisfied: regex>=2020.6.8 in /usr/local/lib/python3.9/dist-packages (from apache_beam) (2022.10.31)\n",
            "Requirement already satisfied: pydot<2,>=1.2.0 in /usr/local/lib/python3.9/dist-packages (from apache_beam) (1.4.2)\n",
            "Collecting dill<0.3.2,>=0.3.1.1\n",
            "  Downloading dill-0.3.1.1.tar.gz (151 kB)\n",
            "\u001b[2K     \u001b[90m━━━━━━━━━━━━━━━━━━━━━━━━━━━━━━━━━━━━━━━\u001b[0m \u001b[32m152.0/152.0 KB\u001b[0m \u001b[31m9.5 MB/s\u001b[0m eta \u001b[36m0:00:00\u001b[0m\n",
            "\u001b[?25h  Preparing metadata (setup.py) ... \u001b[?25l\u001b[?25hdone\n",
            "Collecting objsize<0.7.0,>=0.6.1\n",
            "  Downloading objsize-0.6.1-py3-none-any.whl (9.3 kB)\n",
            "Requirement already satisfied: numpy<1.25.0,>=1.14.3 in /usr/local/lib/python3.9/dist-packages (from apache_beam) (1.22.4)\n",
            "Collecting pymongo<4.0.0,>=3.8.0\n",
            "  Downloading pymongo-3.13.0-cp39-cp39-manylinux_2_17_x86_64.manylinux2014_x86_64.whl (515 kB)\n",
            "\u001b[2K     \u001b[90m━━━━━━━━━━━━━━━━━━━━━━━━━━━━━━━━━━━━━━━\u001b[0m \u001b[32m515.5/515.5 KB\u001b[0m \u001b[31m9.3 MB/s\u001b[0m eta \u001b[36m0:00:00\u001b[0m\n",
            "\u001b[?25hRequirement already satisfied: pyarrow<10.0.0,>=3.0.0 in /usr/local/lib/python3.9/dist-packages (from apache_beam) (9.0.0)\n",
            "Requirement already satisfied: python-dateutil<3,>=2.8.0 in /usr/local/lib/python3.9/dist-packages (from apache_beam) (2.8.2)\n",
            "Requirement already satisfied: grpcio!=1.48.0,<2,>=1.33.1 in /usr/local/lib/python3.9/dist-packages (from apache_beam) (1.53.0)\n",
            "Requirement already satisfied: httplib2<0.22.0,>=0.8 in /usr/local/lib/python3.9/dist-packages (from apache_beam) (0.21.0)\n",
            "Collecting fastavro<2,>=0.23.6\n",
            "  Downloading fastavro-1.7.3-cp39-cp39-manylinux_2_17_x86_64.manylinux2014_x86_64.whl (2.7 MB)\n",
            "\u001b[2K     \u001b[90m━━━━━━━━━━━━━━━━━━━━━━━━━━━━━━━━━━━━━━━━\u001b[0m \u001b[32m2.7/2.7 MB\u001b[0m \u001b[31m16.1 MB/s\u001b[0m eta \u001b[36m0:00:00\u001b[0m\n",
            "\u001b[?25hRequirement already satisfied: requests<3.0.0,>=2.24.0 in /usr/local/lib/python3.9/dist-packages (from apache_beam) (2.27.1)\n",
            "Collecting orjson<4.0\n",
            "  Downloading orjson-3.8.9-cp39-cp39-manylinux_2_28_x86_64.whl (144 kB)\n",
            "\u001b[2K     \u001b[90m━━━━━━━━━━━━━━━━━━━━━━━━━━━━━━━━━━━━━━━\u001b[0m \u001b[32m144.1/144.1 KB\u001b[0m \u001b[31m3.5 MB/s\u001b[0m eta \u001b[36m0:00:00\u001b[0m\n",
            "\u001b[?25hCollecting zstandard<1,>=0.18.0\n",
            "  Downloading zstandard-0.20.0-cp39-cp39-manylinux_2_17_x86_64.manylinux2014_x86_64.whl (2.6 MB)\n",
            "\u001b[2K     \u001b[90m━━━━━━━━━━━━━━━━━━━━━━━━━━━━━━━━━━━━━━━━\u001b[0m \u001b[32m2.6/2.6 MB\u001b[0m \u001b[31m33.5 MB/s\u001b[0m eta \u001b[36m0:00:00\u001b[0m\n",
            "\u001b[?25hCollecting hdfs<3.0.0,>=2.1.0\n",
            "  Downloading hdfs-2.7.0-py3-none-any.whl (34 kB)\n",
            "Collecting crcmod<2.0,>=1.7\n",
            "  Downloading crcmod-1.7.tar.gz (89 kB)\n",
            "\u001b[2K     \u001b[90m━━━━━━━━━━━━━━━━━━━━━━━━━━━━━━━━━━━━━━━━\u001b[0m \u001b[32m89.7/89.7 KB\u001b[0m \u001b[31m3.3 MB/s\u001b[0m eta \u001b[36m0:00:00\u001b[0m\n",
            "\u001b[?25h  Preparing metadata (setup.py) ... \u001b[?25l\u001b[?25hdone\n",
            "Requirement already satisfied: six>=1.9.0 in /usr/local/lib/python3.9/dist-packages (from hdfs<3.0.0,>=2.1.0->apache_beam) (1.16.0)\n",
            "Collecting docopt\n",
            "  Downloading docopt-0.6.2.tar.gz (25 kB)\n",
            "  Preparing metadata (setup.py) ... \u001b[?25l\u001b[?25hdone\n",
            "Requirement already satisfied: pyparsing!=3.0.0,!=3.0.1,!=3.0.2,!=3.0.3,<4,>=2.4.2 in /usr/local/lib/python3.9/dist-packages (from httplib2<0.22.0,>=0.8->apache_beam) (3.0.9)\n",
            "Requirement already satisfied: charset-normalizer~=2.0.0 in /usr/local/lib/python3.9/dist-packages (from requests<3.0.0,>=2.24.0->apache_beam) (2.0.12)\n",
            "Requirement already satisfied: idna<4,>=2.5 in /usr/local/lib/python3.9/dist-packages (from requests<3.0.0,>=2.24.0->apache_beam) (3.4)\n",
            "Requirement already satisfied: certifi>=2017.4.17 in /usr/local/lib/python3.9/dist-packages (from requests<3.0.0,>=2.24.0->apache_beam) (2022.12.7)\n",
            "Requirement already satisfied: urllib3<1.27,>=1.21.1 in /usr/local/lib/python3.9/dist-packages (from requests<3.0.0,>=2.24.0->apache_beam) (1.26.15)\n",
            "Building wheels for collected packages: crcmod, dill, docopt\n",
            "  Building wheel for crcmod (setup.py) ... \u001b[?25l\u001b[?25hdone\n",
            "  Created wheel for crcmod: filename=crcmod-1.7-cp39-cp39-linux_x86_64.whl size=36925 sha256=627ec5877ae7e8512ba2ddc50a224afe73040922b216a4d864e8cc4bd5250374\n",
            "  Stored in directory: /root/.cache/pip/wheels/4a/6c/a6/ffdd136310039bf226f2707a9a8e6857be7d70a3fc061f6b36\n",
            "  Building wheel for dill (setup.py) ... \u001b[?25l\u001b[?25hdone\n",
            "  Created wheel for dill: filename=dill-0.3.1.1-py3-none-any.whl size=78545 sha256=d34f80579a713043bfbb495e8b67dba5ede18feec40c715010f0e82e4d6b19c3\n",
            "  Stored in directory: /root/.cache/pip/wheels/4f/0b/ce/75d96dd714b15e51cb66db631183ea3844e0c4a6d19741a149\n",
            "  Building wheel for docopt (setup.py) ... \u001b[?25l\u001b[?25hdone\n",
            "  Created wheel for docopt: filename=docopt-0.6.2-py2.py3-none-any.whl size=13721 sha256=2bedd4a8232aa74586909c5dd237184fb925c645f50bb5db6b832601be46d5d2\n",
            "  Stored in directory: /root/.cache/pip/wheels/70/4a/46/1309fc853b8d395e60bafaf1b6df7845bdd82c95fd59dd8d2b\n",
            "Successfully built crcmod dill docopt\n",
            "Installing collected packages: docopt, crcmod, zstandard, pymongo, orjson, objsize, fasteners, fastavro, dill, hdfs, apache_beam\n",
            "Successfully installed apache_beam-2.46.0 crcmod-1.7 dill-0.3.1.1 docopt-0.6.2 fastavro-1.7.3 fasteners-0.18 hdfs-2.7.0 objsize-0.6.1 orjson-3.8.9 pymongo-3.13.0 zstandard-0.20.0\n"
          ]
        }
      ],
      "source": [
        "!pip3 install apache_beam"
      ]
    },
    {
      "cell_type": "markdown",
      "source": [
        "# Batch Processing"
      ],
      "metadata": {
        "id": "bcU5TewJ_-A1"
      }
    },
    {
      "cell_type": "markdown",
      "source": [
        "## ReadFromText, WriteToText\n",
        "\n",
        "ReadFromText(file_pattern, min_bundle_size, compression_type, strip_trailing_newlines, validate, skip_header_lines)\n",
        "\n",
        "- file_pattern (required)\n",
        "hdfs, gfs, local filesystem, *\n",
        "\n",
        "- min_bundle_size\n",
        "Pcollection 1GB\n",
        "1024MB/128MB >> 8 Bundle size\n",
        "1core for each bundle >> paralellization\n",
        "\n",
        "- compression_type (optional)\n",
        "automatically determined by the apache beam, but you can explicitly specify the compression type\n",
        "\n",
        "- strip_trailing_newlines\n",
        "determine should remove the newline or not while reading the lines\n",
        "default == True\n",
        "False >> create newline in between\n",
        "\n",
        "- validate\n",
        "verify the presence of the file during pipeline creation\n",
        "error if the file to write to is exist after pipeline creation\n",
        "\n",
        "- skip_header_lines = 1\n",
        "\n",
        "ReadFromAvro(file_pattern, min_bundle_size, validate, use_fastavro)\n",
        "\n",
        "\n",
        "WriteToText(file_path_prefix, suffix, append_trailing_newline, no_of_shard, shard_name_template, coder, compression_type, header)\n",
        "\n",
        "- append_trailing_newline = false\n",
        "[...][...]\n",
        "\n",
        "- append_trailing_newline = true\n",
        "[...]\n",
        "[...]\n",
        "\n",
        "- no_of_shard >> the number of outputfile\n",
        "already set by apache beam by default\n",
        "\n",
        "- shard_name_template\n",
        "'SS-NN'\n",
        "\n",
        "- compression_type=beam.io.filesystem.CompressionTypes.GZIP\n",
        "\n",
        "- header='movieID,Name,rating'\n",
        "\n",
        "WriteToAvro(file_path_prefix, Schema, codec, file_name-suffix, num_shards, shard_name_template, mime_type, use_fastavro)\n",
        "\n",
        "WriteToParquert(file_path_prefix, Schema, row_group_buffer_size, record_batch_size, codec, use_deprecated_int_timestamp,file_name_suffix, num_shards, shard_name_tamplate, mime_type)"
      ],
      "metadata": {
        "id": "qpQZGhupAENI"
      }
    },
    {
      "cell_type": "code",
      "source": [
        "!cat /data/movies_rating.txt"
      ],
      "metadata": {
        "colab": {
          "base_uri": "https://localhost:8080/"
        },
        "id": "57mVAyhYWIEe",
        "outputId": "7571148a-9e55-4946-e631-2efc09d13fd1"
      },
      "execution_count": null,
      "outputs": [
        {
          "output_type": "stream",
          "name": "stdout",
          "text": [
            "movieId,name,rating\r\n",
            "1,Titanic,3.5\r\n",
            "2,Avengers,4\r\n",
            "3,SpiderMan,4.5\r\n",
            "4,Green Miles,4\r\n"
          ]
        }
      ]
    },
    {
      "cell_type": "code",
      "source": [
        "file_path = '/data/movies_rating.txt'"
      ],
      "metadata": {
        "id": "WdtGB5W5WN0U"
      },
      "execution_count": null,
      "outputs": []
    },
    {
      "cell_type": "code",
      "source": [
        "import apache_beam as beam\n",
        "p1 = beam.Pipeline()\n",
        "ratings = {\n",
        "    p1\n",
        "    |beam.io.ReadFromText(file_path,skip_header_lines=1)\n",
        "    |beam.Map(lambda record: record.split(','))\n",
        "    |beam.Filter(lambda record: float(record[2])>4)\n",
        "    |beam.io.WriteToText('result')\n",
        "}\n",
        "p1.run()"
      ],
      "metadata": {
        "id": "1nUyhQ902HxM",
        "colab": {
          "base_uri": "https://localhost:8080/"
        },
        "outputId": "3148287f-3a8b-4bc9-ab4f-519ec85d7d02"
      },
      "execution_count": null,
      "outputs": [
        {
          "output_type": "execute_result",
          "data": {
            "text/plain": [
              "<apache_beam.runners.portability.fn_api_runner.fn_runner.RunnerResult at 0x7f21e5741af0>"
            ]
          },
          "metadata": {},
          "execution_count": 35
        }
      ]
    },
    {
      "cell_type": "code",
      "source": [
        "!cat result-00000-of-00001"
      ],
      "metadata": {
        "colab": {
          "base_uri": "https://localhost:8080/"
        },
        "id": "9yli59GiNJPI",
        "outputId": "34fd590c-6023-4a16-ca06-f2d1345a087b"
      },
      "execution_count": null,
      "outputs": [
        {
          "output_type": "stream",
          "name": "stdout",
          "text": [
            "['3', 'SpiderMan', '4.5']\n"
          ]
        }
      ]
    },
    {
      "cell_type": "code",
      "source": [],
      "metadata": {
        "id": "2oj9Hc1HW9rc"
      },
      "execution_count": null,
      "outputs": []
    },
    {
      "cell_type": "markdown",
      "source": [
        "## Map and Filter"
      ],
      "metadata": {
        "id": "2BG3z-o0AKAt"
      }
    },
    {
      "cell_type": "code",
      "source": [
        "!cat /data/Customers_age.txt"
      ],
      "metadata": {
        "colab": {
          "base_uri": "https://localhost:8080/"
        },
        "id": "lsoDsMCmW-lU",
        "outputId": "850aff12-866d-447a-8d9b-982668092f1d"
      },
      "execution_count": null,
      "outputs": [
        {
          "output_type": "stream",
          "name": "stdout",
          "text": [
            "1,John,NY,22\r\n",
            "2,Jim,LA,25\r\n",
            "3,Mary,NY,30\r\n",
            "4,Albert,LA,20\r\n",
            "5,Samza.NY,18\r\n",
            "6,Maria,NY,15\r\n",
            "7,Shreya,NY,30\r\n",
            "8,Kavita,LA,20\r\n",
            "9,Mona,NY,18\r\n",
            "10,Nandita,NY,15"
          ]
        }
      ]
    },
    {
      "cell_type": "code",
      "source": [
        "file_path = '/data/Customers_age.txt'"
      ],
      "metadata": {
        "id": "ahTwYcBEXIMY"
      },
      "execution_count": null,
      "outputs": []
    },
    {
      "cell_type": "code",
      "source": [
        "import apache_beam as beam\n",
        "p1 = beam.Pipeline()\n",
        "customers = {\n",
        "    p1\n",
        "    |beam.io.ReadFromText(file_path)\n",
        "    |beam.Map(lambda record: record.split(','))\n",
        "    |beam.Filter(lambda record: record[2]=='NY' and int(record[3])>20)\n",
        "    |beam.io.WriteToText('result','customer')\n",
        "}\n",
        "p1.run()"
      ],
      "metadata": {
        "id": "NmYL2RhqNRO4",
        "colab": {
          "base_uri": "https://localhost:8080/"
        },
        "outputId": "e7568e0f-cef3-4bc7-d22a-f02eea5a0703"
      },
      "execution_count": null,
      "outputs": [
        {
          "output_type": "execute_result",
          "data": {
            "text/plain": [
              "<apache_beam.runners.portability.fn_api_runner.fn_runner.RunnerResult at 0x7f21e77e04c0>"
            ]
          },
          "metadata": {},
          "execution_count": 40
        }
      ]
    },
    {
      "cell_type": "code",
      "source": [
        "!cat result-00000-of-00001customer"
      ],
      "metadata": {
        "colab": {
          "base_uri": "https://localhost:8080/"
        },
        "id": "FWnTEUSAX257",
        "outputId": "b07997ac-3c3d-4813-ba0d-6f24de6cda2e"
      },
      "execution_count": null,
      "outputs": [
        {
          "output_type": "stream",
          "name": "stdout",
          "text": [
            "['1', 'John', 'NY', '22']\n",
            "['3', 'Mary', 'NY', '30']\n",
            "['7', 'Shreya', 'NY', '30']\n"
          ]
        }
      ]
    },
    {
      "cell_type": "code",
      "source": [],
      "metadata": {
        "id": "yQH5A5VyYPI9"
      },
      "execution_count": null,
      "outputs": []
    },
    {
      "cell_type": "markdown",
      "source": [
        "## FlatMap"
      ],
      "metadata": {
        "id": "I2yRkiOqBr7I"
      }
    },
    {
      "cell_type": "code",
      "source": [
        "!cat /data/Peter_Piper.txt"
      ],
      "metadata": {
        "colab": {
          "base_uri": "https://localhost:8080/"
        },
        "id": "PJCw8XUQYPMS",
        "outputId": "52951467-33f1-43ec-9682-e858c29d1e73"
      },
      "execution_count": null,
      "outputs": [
        {
          "output_type": "stream",
          "name": "stdout",
          "text": [
            "peter piper picked a peck of pickled pepper\r\n",
            "a peck of pickled pepper peter piper picked\r\n",
            "if peter piper picked a peck of pickled pepper\r\n",
            "where's the peck of pickled pepper peter piper picked\r\n"
          ]
        }
      ]
    },
    {
      "cell_type": "code",
      "source": [
        "file_path = '/data/Peter_Piper.txt'"
      ],
      "metadata": {
        "id": "ynU8IokjYQPQ"
      },
      "execution_count": null,
      "outputs": []
    },
    {
      "cell_type": "code",
      "source": [
        "words = ['peter','piper', 'pickled', 'picked', 'pecked', 'pepper']"
      ],
      "metadata": {
        "id": "arml0lPuYryp"
      },
      "execution_count": null,
      "outputs": []
    },
    {
      "cell_type": "code",
      "source": [
        "def FindWord(element):\n",
        "  if element in words:\n",
        "    return True"
      ],
      "metadata": {
        "id": "oz2H_mHFY2Nh"
      },
      "execution_count": null,
      "outputs": []
    },
    {
      "cell_type": "code",
      "source": [
        "p1 = beam.Pipeline()\n",
        "\n",
        "freq = {\n",
        "    p1\n",
        "    |beam.io.ReadFromText(file_path)\n",
        "    |beam.FlatMap(lambda record: record.split(' '))\n",
        "    |beam.Filter(FindWord)\n",
        "    |beam.Map(lambda record: (record,1))\n",
        "    |beam.CombinePerKey(sum)\n",
        "    |beam.io.WriteToText('result','freq')\n",
        "}\n",
        "p1.run()"
      ],
      "metadata": {
        "colab": {
          "base_uri": "https://localhost:8080/"
        },
        "id": "0B3SoN65YAJp",
        "outputId": "019b7221-7419-4a3a-cf7f-f7f4022acdd5"
      },
      "execution_count": null,
      "outputs": [
        {
          "output_type": "execute_result",
          "data": {
            "text/plain": [
              "<apache_beam.runners.portability.fn_api_runner.fn_runner.RunnerResult at 0x7f21e6e29cd0>"
            ]
          },
          "metadata": {},
          "execution_count": 47
        }
      ]
    },
    {
      "cell_type": "code",
      "source": [
        "!cat result-00000-of-00001freq"
      ],
      "metadata": {
        "colab": {
          "base_uri": "https://localhost:8080/"
        },
        "id": "BG8AYASuZYQw",
        "outputId": "314c328c-9c84-431c-918a-3ede5d1f920d"
      },
      "execution_count": null,
      "outputs": [
        {
          "output_type": "stream",
          "name": "stdout",
          "text": [
            "('peter', 4)\n",
            "('piper', 4)\n",
            "('picked', 4)\n",
            "('pickled', 4)\n",
            "('pepper', 4)\n"
          ]
        }
      ]
    },
    {
      "cell_type": "code",
      "source": [],
      "metadata": {
        "id": "aAl8KJgBZgmA"
      },
      "execution_count": null,
      "outputs": []
    },
    {
      "cell_type": "markdown",
      "source": [
        "## CoGroupByKey"
      ],
      "metadata": {
        "id": "R3kDFYzBBye_"
      }
    },
    {
      "cell_type": "code",
      "source": [
        "p = beam.Pipeline()\n",
        "movie_name = [\n",
        "    (1, 'SpiderMan'),\n",
        "    (2, 'Avenger'),\n",
        "    (3, 'Titanic'),\n",
        "    (4, 'Green Miles'),\n",
        "]\n",
        "movie_rating = [\n",
        "    (1, 3.5),\n",
        "    (2, 4),\n",
        "    (1, 4.5),\n",
        "    (3, 3.5),\n",
        "    (2, 4.5)\n",
        "]\n",
        "\n",
        "name = p| 'Create Name Pcollection' >> beam.Create(movie_name)\n",
        "ratings = p| \"Create Rating Pcollection\" >> beam.Create(movie_rating)\n",
        "\n",
        "#joinedResult = ({name,ratings} | beam.CoGroupByKey()) | beam.Map(print)\n",
        "joinedResult = ({'movie_name':name, 'movie_rating':ratings} | beam.CoGroupByKey()) | beam.Map(print)\n",
        "\n",
        "p.run()"
      ],
      "metadata": {
        "colab": {
          "base_uri": "https://localhost:8080/"
        },
        "id": "c6wU2hAmZs5d",
        "outputId": "088eecfc-4317-48d3-c3c6-725029be8feb"
      },
      "execution_count": null,
      "outputs": [
        {
          "output_type": "stream",
          "name": "stdout",
          "text": [
            "(1, {'movie_name': ['SpiderMan'], 'movie_rating': [3.5, 4.5]})\n",
            "(2, {'movie_name': ['Avenger'], 'movie_rating': [4, 4.5]})\n",
            "(3, {'movie_name': ['Titanic'], 'movie_rating': [3.5]})\n",
            "(4, {'movie_name': ['Green Miles'], 'movie_rating': []})\n"
          ]
        },
        {
          "output_type": "execute_result",
          "data": {
            "text/plain": [
              "<apache_beam.runners.portability.fn_api_runner.fn_runner.RunnerResult at 0x7f21e7704f70>"
            ]
          },
          "metadata": {},
          "execution_count": 49
        }
      ]
    },
    {
      "cell_type": "code",
      "source": [],
      "metadata": {
        "id": "BShBBdfXCJYm"
      },
      "execution_count": null,
      "outputs": []
    },
    {
      "cell_type": "markdown",
      "source": [
        "## Partition"
      ],
      "metadata": {
        "id": "K6X2H8q1CKcU"
      }
    },
    {
      "cell_type": "code",
      "source": [
        "import apache_beam as beam\n",
        "\n",
        "p = beam.Pipeline()\n",
        "number = {1,2,3,4,5,6,7,8}\n",
        "\n",
        "def partition_fn(element, num_partition):\n",
        "  return 0 if element%2 else 1\n",
        "\n",
        "number_pc = p|beam.Create(number)|beam.Partition(partition_fn,2)\n",
        "number_pc[0]|\"Printing first partition\" >> beam.Map(print)\n",
        "#number_pc[1]|\"Printing second partition\" >> beam.Map(print)\n",
        "p.run()"
      ],
      "metadata": {
        "colab": {
          "base_uri": "https://localhost:8080/"
        },
        "id": "K4SO4tGHC0FR",
        "outputId": "3dd7e9f9-7265-4dbb-9522-6dbe295438e2"
      },
      "execution_count": null,
      "outputs": [
        {
          "output_type": "stream",
          "name": "stdout",
          "text": [
            "1\n",
            "3\n",
            "5\n",
            "7\n"
          ]
        },
        {
          "output_type": "execute_result",
          "data": {
            "text/plain": [
              "<apache_beam.runners.portability.fn_api_runner.fn_runner.RunnerResult at 0x7f21e7739550>"
            ]
          },
          "metadata": {},
          "execution_count": 50
        }
      ]
    },
    {
      "cell_type": "code",
      "source": [],
      "metadata": {
        "id": "2wH-yH2EEDW1"
      },
      "execution_count": null,
      "outputs": []
    },
    {
      "cell_type": "markdown",
      "source": [
        "## Flatten\n",
        "union operation that will combine multiple collection into single logical collection"
      ],
      "metadata": {
        "id": "t-j5LMWqEMjA"
      }
    },
    {
      "cell_type": "code",
      "source": [
        "import apache_beam as beam\n",
        "\n",
        "p = beam.Pipeline()\n",
        "\n",
        "even = {2,4,6,8}\n",
        "odd = {1,3,5,6,9}\n",
        "name = {'Jack','Rose','Jira'}\n",
        "\n",
        "even_pc = p |\"Create Pcollection for even number\" >> beam.Create(even)\n",
        "odd_pc = p | \"Create Pcollection for odd number\" >> beam.Create(odd)\n",
        "name_pc = p | \"Create Pcollection for name\" >> beam.Create(name)\n",
        "\n",
        "result = ((even_pc, odd_pc, name_pc) | beam.Flatten()) | beam.Map(print)\n",
        "\n",
        "p.run()"
      ],
      "metadata": {
        "colab": {
          "base_uri": "https://localhost:8080/"
        },
        "id": "TYdafSKfEU64",
        "outputId": "f5743dc6-9ca3-40c2-c3e4-016320bcfdc7"
      },
      "execution_count": null,
      "outputs": [
        {
          "output_type": "stream",
          "name": "stdout",
          "text": [
            "Jack\n",
            "Jira\n",
            "Rose\n",
            "8\n",
            "2\n",
            "4\n",
            "6\n",
            "1\n",
            "3\n",
            "5\n",
            "6\n",
            "9\n"
          ]
        },
        {
          "output_type": "execute_result",
          "data": {
            "text/plain": [
              "<apache_beam.runners.portability.fn_api_runner.fn_runner.RunnerResult at 0x7f21e763f970>"
            ]
          },
          "metadata": {},
          "execution_count": 51
        }
      ]
    },
    {
      "cell_type": "code",
      "source": [],
      "metadata": {
        "id": "4AognYXeFi27"
      },
      "execution_count": null,
      "outputs": []
    },
    {
      "cell_type": "markdown",
      "source": [
        "## Composite Ptransform\n",
        "### Before"
      ],
      "metadata": {
        "id": "ONysHtpKF117"
      }
    },
    {
      "cell_type": "code",
      "source": [
        "!cat /data/students_marks.txt"
      ],
      "metadata": {
        "colab": {
          "base_uri": "https://localhost:8080/"
        },
        "id": "WBVk8WaKVURe",
        "outputId": "0c0b896a-ebee-461b-c881-28e2ccbf53a7"
      },
      "execution_count": null,
      "outputs": [
        {
          "output_type": "stream",
          "name": "stdout",
          "text": [
            "John,US,20,22,40\r\n",
            "Jim,IN,40,24,36\r\n",
            "Sam,US,23,26,40\r\n",
            "Sandhya,IN,40,42,36\r\n",
            "Naina,IN,34,48,44"
          ]
        }
      ]
    },
    {
      "cell_type": "code",
      "source": [
        "file_path = '/data/students_marks.txt'"
      ],
      "metadata": {
        "id": "CD4j002iVL7y"
      },
      "execution_count": null,
      "outputs": []
    },
    {
      "cell_type": "code",
      "source": [
        "import apache_beam as beam\n",
        "p1 = beam.Pipeline()\n",
        "\n",
        "def SplitRow(input_element):\n",
        "  return input_element.split(',')\n",
        "\n",
        "def FilterBasedonCountry(countryName, input_element):\n",
        "  return input_element[1] == countryName\n",
        "\n",
        "def CalculateSum(elem):\n",
        "  return elem[0],(int(elem[2])+int(elem[3])+int(elem[4]))\n",
        "\n",
        "def FormatText(elem):\n",
        "  return elem[0]+' has received '+str(elem[1]) +' marks'\n",
        "\n",
        "input_collection = (\n",
        "    p1\n",
        "    | beam.io.ReadFromText(file_path)\n",
        "    | beam.Map(SplitRow)\n",
        ")\n",
        "\n",
        "us_pipeline = (\n",
        "    input_collection\n",
        "    | beam.Filter(lambda record: FilterBasedonCountry('US', record))\n",
        "    | 'Calculate Sum for US' >> beam.Map(CalculateSum)\n",
        "    | 'Apply Formatting for US' >> beam.Map(FormatText)\n",
        "    | 'Writing result to US File' >> beam.io.WriteToText('US_Result')\n",
        ")\n",
        "\n",
        "india_pipeline = (\n",
        "    input_collection\n",
        "    | beam.Filter(lambda record: FilterBasedonCountry('IN', record))\n",
        "    | 'Calculate Sum for IN' >> beam.Map(CalculateSum)\n",
        "    | 'Apply Formatting for IN' >> beam.Map(FormatText)\n",
        "    | 'Writing result to India File' >> beam.io.WriteToText('IN_Result')\n",
        ")\n",
        "\n",
        "p1.run()\n",
        "\n"
      ],
      "metadata": {
        "colab": {
          "base_uri": "https://localhost:8080/"
        },
        "id": "rjvVud5IF5b5",
        "outputId": "421373f8-8736-45f4-b028-65411f26fb80"
      },
      "execution_count": null,
      "outputs": [
        {
          "output_type": "execute_result",
          "data": {
            "text/plain": [
              "<apache_beam.runners.portability.fn_api_runner.fn_runner.RunnerResult at 0x7f21e72b6f40>"
            ]
          },
          "metadata": {},
          "execution_count": 58
        }
      ]
    },
    {
      "cell_type": "code",
      "source": [
        "!cat US_Result-00000-of-00001"
      ],
      "metadata": {
        "colab": {
          "base_uri": "https://localhost:8080/"
        },
        "outputId": "4f95f56a-8b2e-4bd9-fab7-dc3dca886895",
        "id": "BlDN7AWgcO5v"
      },
      "execution_count": null,
      "outputs": [
        {
          "output_type": "stream",
          "name": "stdout",
          "text": [
            "John has received 82 marks\n",
            "Sam has received 89 marks\n"
          ]
        }
      ]
    },
    {
      "cell_type": "code",
      "source": [
        "!cat IN_Result-00000-of-00001"
      ],
      "metadata": {
        "colab": {
          "base_uri": "https://localhost:8080/"
        },
        "id": "96AfEKYtcO5w",
        "outputId": "b3dbf53e-edb8-45cb-febf-c157260b1812"
      },
      "execution_count": null,
      "outputs": [
        {
          "output_type": "stream",
          "name": "stdout",
          "text": [
            "Jim has received 100 marks\n",
            "Sandhya has received 118 marks\n",
            "Naina has received 126 marks\n"
          ]
        }
      ]
    },
    {
      "cell_type": "code",
      "source": [],
      "metadata": {
        "id": "lGA5j0AGcIK9"
      },
      "execution_count": null,
      "outputs": []
    },
    {
      "cell_type": "markdown",
      "source": [
        "### After"
      ],
      "metadata": {
        "id": "eBJldqeHW0P0"
      }
    },
    {
      "cell_type": "code",
      "source": [
        "import apache_beam as beam\n",
        "p1 = beam.Pipeline()\n",
        "\n",
        "def SplitRow(input_element):\n",
        "  return input_element.split(',')\n",
        "\n",
        "def FilterBasedonCountry(countryName, input_element):\n",
        "  return input_element[1] == countryName\n",
        "\n",
        "def CalculateSum(elem):\n",
        "  return elem[0],(int(elem[2])+int(elem[3])+int(elem[4]))\n",
        "\n",
        "def FormatText(elem):\n",
        "  return elem[0]+' has received '+str(elem[1]) +' marks'\n",
        "\n",
        "class MyPTransform(beam.PTransform):\n",
        "  def expand(self, input_col):\n",
        "    a = (\n",
        "        input_col\n",
        "         |\"Calculate Sum\" >> beam.Map(CalculateSum)\n",
        "         |\"Apply Formatting\" >> beam.Map(FormatText)\n",
        "    )\n",
        "    return a\n",
        "\n",
        "input_collection = (\n",
        "    p1\n",
        "    | beam.io.ReadFromText(file_path)\n",
        "    | beam.Map(SplitRow)\n",
        ")\n",
        "\n",
        "us_pipeline = (\n",
        "    input_collection\n",
        "    | beam.Filter(lambda record: FilterBasedonCountry('US', record))\n",
        "    | 'Calculate Ptransform for US' >> MyPTransform()\n",
        "    | 'Writing result to US File' >> beam.io.WriteToText('US_Result')\n",
        ")\n",
        "\n",
        "india_pipeline = (\n",
        "    input_collection\n",
        "    | beam.Filter(lambda record: FilterBasedonCountry('IN', record))\n",
        "    | 'Calculate Ptransform for India' >> MyPTransform()\n",
        "    | 'Writing result to India File' >> beam.io.WriteToText('IN_Result')\n",
        ")\n",
        "\n",
        "p1.run()"
      ],
      "metadata": {
        "colab": {
          "base_uri": "https://localhost:8080/"
        },
        "id": "ezo8sFzbGTj3",
        "outputId": "565df5d2-7d65-421b-ff88-3d6de841f4af"
      },
      "execution_count": null,
      "outputs": [
        {
          "output_type": "execute_result",
          "data": {
            "text/plain": [
              "<apache_beam.runners.portability.fn_api_runner.fn_runner.RunnerResult at 0x7f21e6d0a9d0>"
            ]
          },
          "metadata": {},
          "execution_count": 65
        }
      ]
    },
    {
      "cell_type": "code",
      "source": [
        "!cat US_Result-00000-of-00001"
      ],
      "metadata": {
        "colab": {
          "base_uri": "https://localhost:8080/"
        },
        "id": "vdLoZoB5bfgb",
        "outputId": "a3fdb278-add4-4ee8-f087-87c92ad28aa9"
      },
      "execution_count": null,
      "outputs": [
        {
          "output_type": "stream",
          "name": "stdout",
          "text": [
            "John has received 82 marks\n",
            "Sam has received 89 marks\n"
          ]
        }
      ]
    },
    {
      "cell_type": "code",
      "source": [
        "!cat IN_Result-00000-of-00001"
      ],
      "metadata": {
        "colab": {
          "base_uri": "https://localhost:8080/"
        },
        "id": "4FQ85aj2bcv7",
        "outputId": "baefeabd-bb28-433b-db98-20adb15fd83a"
      },
      "execution_count": null,
      "outputs": [
        {
          "output_type": "stream",
          "name": "stdout",
          "text": [
            "Jim has received 100 marks\n",
            "Sandhya has received 118 marks\n",
            "Naina has received 126 marks\n"
          ]
        }
      ]
    },
    {
      "cell_type": "markdown",
      "source": [
        "## ParDo"
      ],
      "metadata": {
        "id": "amcaI02CGUAE"
      }
    },
    {
      "cell_type": "markdown",
      "source": [
        "### ParDo as Map and Filter"
      ],
      "metadata": {
        "id": "rGy89_tNY8Cj"
      }
    },
    {
      "cell_type": "code",
      "source": [
        "!cat /data/Customers_age.txt"
      ],
      "metadata": {
        "colab": {
          "base_uri": "https://localhost:8080/"
        },
        "outputId": "bcc49e1b-807a-41b7-a677-2149ebed72a0",
        "id": "vMIUidJYY18O"
      },
      "execution_count": null,
      "outputs": [
        {
          "output_type": "stream",
          "name": "stdout",
          "text": [
            "1,John,NY,22\r\n",
            "2,Jim,LA,25\r\n",
            "3,Mary,NY,30\r\n",
            "4,Albert,LA,20\r\n",
            "5,Samza.NY,18\r\n",
            "6,Maria,NY,15\r\n",
            "7,Shreya,NY,30\r\n",
            "8,Kavita,LA,20\r\n",
            "9,Mona,NY,18\r\n",
            "10,Nandita,NY,15"
          ]
        }
      ]
    },
    {
      "cell_type": "code",
      "source": [
        "file_path = '/data/Customers_age.txt'"
      ],
      "metadata": {
        "id": "98pzbxjrY18W"
      },
      "execution_count": null,
      "outputs": []
    },
    {
      "cell_type": "code",
      "source": [
        "import apache_beam as beam\n",
        "\n",
        "p1 = beam.Pipeline()\n",
        "\n",
        "class SplitRow(beam.DoFn):\n",
        "  def process(self, element):\n",
        "    return [element.split(',')]\n",
        "\n",
        "class FilterCustomer(beam.DoFn):\n",
        "  def process(self, element):\n",
        "    if element[2]=='NY' and int(element[3])>20:\n",
        "      return [element]\n",
        "\n",
        "customers={\n",
        "    p1\n",
        "    | beam.io.ReadFromText(file_path)\n",
        "    | beam.ParDo(SplitRow()) #Map\n",
        "    | beam.ParDo(FilterCustomer()) #Filter\n",
        "    | beam.io.WriteToText('result')\n",
        "}\n",
        "\n",
        "p1.run()"
      ],
      "metadata": {
        "colab": {
          "base_uri": "https://localhost:8080/"
        },
        "id": "JP08qJszGVJZ",
        "outputId": "c878bfb1-56de-4683-a8d4-5188795105a0"
      },
      "execution_count": null,
      "outputs": [
        {
          "output_type": "execute_result",
          "data": {
            "text/plain": [
              "<apache_beam.runners.portability.fn_api_runner.fn_runner.RunnerResult at 0x7f21e616c280>"
            ]
          },
          "metadata": {},
          "execution_count": 74
        }
      ]
    },
    {
      "cell_type": "code",
      "source": [
        "!cat result-00000-of-00001"
      ],
      "metadata": {
        "colab": {
          "base_uri": "https://localhost:8080/"
        },
        "id": "U-9IXdC6GW_u",
        "outputId": "7fb33492-b4cd-47a1-8d1d-60954b958c67"
      },
      "execution_count": null,
      "outputs": [
        {
          "output_type": "stream",
          "name": "stdout",
          "text": [
            "['1', 'John', 'NY', '22']\n",
            "['3', 'Mary', 'NY', '30']\n",
            "['7', 'Shreya', 'NY', '30']\n"
          ]
        }
      ]
    },
    {
      "cell_type": "markdown",
      "source": [
        "### ParDo as FlatMap"
      ],
      "metadata": {
        "id": "zQVWKuSmbKG4"
      }
    },
    {
      "cell_type": "code",
      "source": [
        "!cat /data/Peter_Piper.txt"
      ],
      "metadata": {
        "colab": {
          "base_uri": "https://localhost:8080/"
        },
        "outputId": "c4edfba2-6b82-4a45-9406-928419ac2128",
        "id": "mZ250jzFeK-T"
      },
      "execution_count": null,
      "outputs": [
        {
          "output_type": "stream",
          "name": "stdout",
          "text": [
            "peter piper picked a peck of pickled pepper\r\n",
            "a peck of pickled pepper peter piper picked\r\n",
            "if peter piper picked a peck of pickled pepper\r\n",
            "where's the peck of pickled pepper peter piper picked\r\n"
          ]
        }
      ]
    },
    {
      "cell_type": "code",
      "source": [
        "file_path = '/data/Peter_Piper.txt'"
      ],
      "metadata": {
        "id": "mg3t4yHweK-g"
      },
      "execution_count": null,
      "outputs": []
    },
    {
      "cell_type": "code",
      "source": [
        "import apache_beam as beam\n",
        "\n",
        "words=['peter','piper','pickled','picked','peck','pepper']\n",
        "\n",
        "def SplitRow(element):\n",
        "  return element.split(' ')\n",
        "\n",
        "\n",
        "def FindWord(element):\n",
        " if element in words:\n",
        "    return True\n",
        "\n",
        "class SplitRow(beam.DoFn):\n",
        "  def process(self,element):\n",
        "    return element.split(' ')\n",
        "\n",
        "\n",
        "class CalculateFrequency(beam.DoFn):\n",
        "  def process(self,element):\n",
        "    (key,value) = element\n",
        "    return [(key,sum(value))]\n",
        "\n",
        "   \n",
        "\n",
        "p1 = beam.Pipeline()\n",
        "\n",
        "freq = (\n",
        "    p1\n",
        "    |'Read your input file' >> beam.io.ReadFromText(file_path)\n",
        "    |'Split Records with Space' >> beam.ParDo(SplitRow())\n",
        "    |'Filtering records' >> beam.Filter(FindWord)\n",
        "    |'Create tupled records'>> beam.Map(lambda record: (record,1))\n",
        "    |'Group By Key'>> beam.GroupByKey()\n",
        "    |'Calculate Frequency of words' >> beam.ParDo(CalculateFrequency())\n",
        "    |beam.io.WriteToText('result')\n",
        ")\n",
        "p1.run()"
      ],
      "metadata": {
        "colab": {
          "base_uri": "https://localhost:8080/"
        },
        "id": "OHOWOq5rGXRu",
        "outputId": "e1d59142-c601-483d-b07a-c9f1b7346b5c"
      },
      "execution_count": null,
      "outputs": [
        {
          "output_type": "execute_result",
          "data": {
            "text/plain": [
              "<apache_beam.runners.portability.fn_api_runner.fn_runner.RunnerResult at 0x7f21e770bfd0>"
            ]
          },
          "metadata": {},
          "execution_count": 78
        }
      ]
    },
    {
      "cell_type": "code",
      "source": [
        "!cat result-00000-of-00001"
      ],
      "metadata": {
        "colab": {
          "base_uri": "https://localhost:8080/"
        },
        "id": "q401Lg0_bM5U",
        "outputId": "45dc41f0-3ff7-4dc3-f091-f040aa1275b7"
      },
      "execution_count": null,
      "outputs": [
        {
          "output_type": "stream",
          "name": "stdout",
          "text": [
            "('peter', 4)\n",
            "('piper', 4)\n",
            "('picked', 4)\n",
            "('peck', 4)\n",
            "('pickled', 4)\n",
            "('pepper', 4)\n"
          ]
        }
      ]
    },
    {
      "cell_type": "markdown",
      "source": [
        "## Side Inputs"
      ],
      "metadata": {
        "id": "9_iAOSyrGXfb"
      }
    },
    {
      "cell_type": "code",
      "source": [
        "!cat /data/Peter_Piper.txt"
      ],
      "metadata": {
        "colab": {
          "base_uri": "https://localhost:8080/"
        },
        "outputId": "c4edfba2-6b82-4a45-9406-928419ac2128",
        "id": "8oh8GI6_eo_O"
      },
      "execution_count": null,
      "outputs": [
        {
          "output_type": "stream",
          "name": "stdout",
          "text": [
            "peter piper picked a peck of pickled pepper\r\n",
            "a peck of pickled pepper peter piper picked\r\n",
            "if peter piper picked a peck of pickled pepper\r\n",
            "where's the peck of pickled pepper peter piper picked\r\n"
          ]
        }
      ]
    },
    {
      "cell_type": "code",
      "source": [
        "fileexc_path = '/data/customers_exclude.txt'\n",
        "file_path = '/data/Customers_age.txt'"
      ],
      "metadata": {
        "id": "QgalnAldeo_O"
      },
      "execution_count": null,
      "outputs": []
    },
    {
      "cell_type": "code",
      "source": [
        "import apache_beam as beam\n",
        "p1 = beam.Pipeline()\n",
        "\n",
        "side_list = list()\n",
        "with open (fileexc_path,'r') as exclude_file:\n",
        "  for cust_id in exclude_file:\n",
        "    side_list.append(cust_id.rstrip())\n",
        "\n",
        "print(side_list)\n",
        "\n",
        "class SplitRow(beam.DoFn):\n",
        "  def process(self,element,side_list):\n",
        "    customer = element.split(',')\n",
        "    if customer[0] not in side_list:\n",
        "      return [customer]\n",
        "\n",
        "customers = (\n",
        "    p1\n",
        "    |beam.io.ReadFromText(file_path)\n",
        "    |beam.ParDo(SplitRow(),side_list)\n",
        "    |beam.io.WriteToText('result')\n",
        ")\n",
        "p1.run()"
      ],
      "metadata": {
        "colab": {
          "base_uri": "https://localhost:8080/"
        },
        "id": "Fm6AvOzEGY9m",
        "outputId": "c6d2eb75-3bba-41e3-e954-f95777c69bfd"
      },
      "execution_count": null,
      "outputs": [
        {
          "output_type": "stream",
          "name": "stdout",
          "text": [
            "['3', '7', '10']\n"
          ]
        },
        {
          "output_type": "execute_result",
          "data": {
            "text/plain": [
              "<apache_beam.runners.portability.fn_api_runner.fn_runner.RunnerResult at 0x7f21e6990a90>"
            ]
          },
          "metadata": {},
          "execution_count": 87
        }
      ]
    },
    {
      "cell_type": "code",
      "source": [
        "!cat result-00000-of-00001"
      ],
      "metadata": {
        "colab": {
          "base_uri": "https://localhost:8080/"
        },
        "id": "MjkGsnM9GZfq",
        "outputId": "340f74db-f51d-41f4-a1b9-2215075c8b83"
      },
      "execution_count": null,
      "outputs": [
        {
          "output_type": "stream",
          "name": "stdout",
          "text": [
            "['1', 'John', 'NY', '22']\n",
            "['2', 'Jim', 'LA', '25']\n",
            "['4', 'Albert', 'LA', '20']\n",
            "['5', 'Samza.NY', '18']\n",
            "['6', 'Maria', 'NY', '15']\n",
            "['8', 'Kavita', 'LA', '20']\n",
            "['9', 'Mona', 'NY', '18']\n"
          ]
        }
      ]
    },
    {
      "cell_type": "code",
      "source": [],
      "metadata": {
        "id": "bF5CrirmGZiU"
      },
      "execution_count": null,
      "outputs": []
    },
    {
      "cell_type": "code",
      "source": [],
      "metadata": {
        "id": "URll25y4GZlr"
      },
      "execution_count": null,
      "outputs": []
    },
    {
      "cell_type": "markdown",
      "source": [
        "## Side Outputs"
      ],
      "metadata": {
        "id": "PpioBYh5GZxx"
      }
    },
    {
      "cell_type": "code",
      "source": [
        "import apache_beam as beam\n",
        "p1 = beam.Pipeline()\n",
        "\n",
        "side_list = list()\n",
        "with open (fileexc_path,'r') as exclude_file:\n",
        "  for cust_id in exclude_file:\n",
        "    side_list.append(cust_id.rstrip())\n",
        "\n",
        "print(side_list)\n",
        "\n",
        "class SplitRow(beam.DoFn):\n",
        "  def process(self,element,side_list):\n",
        "    customer = element.split(',')\n",
        "    if customer[0] not in side_list:\n",
        "      return [customer]\n",
        "\n",
        "class ProcessCustomers(beam.DoFn):\n",
        "  def process(self,element,country,start_char):\n",
        "    if(element[2]=='NY'):\n",
        "      yield  element\n",
        "    else:\n",
        "      yield  beam.pvalue.TaggedOutput('Other_Cust',element)\n",
        "    if(element[1].startswith('J')):\n",
        "       yield  beam.pvalue.TaggedOutput('Names_J',element)\n",
        "  \n",
        "\n",
        "\n",
        "customers = (\n",
        "    p1\n",
        "    |beam.io.ReadFromText(file_path)\n",
        "    |beam.ParDo(SplitRow(),side_list)\n",
        "    |beam.ParDo(ProcessCustomers(),country='NY',start_char='J').with_outputs('Names_J','Other_Cust',main='NewYork_Cust')\n",
        ")\n",
        "\n",
        "newyork_customers = customers.NewYork_Cust\n",
        "other_customers = customers.Other_Cust\n",
        "customer_withname_J = customers.Names_J\n",
        "\n",
        "newyork_customers | 'Write Newyork Customers PCollection' >> beam.io.WriteToText(\"newyork\")\n",
        "other_customers  | 'Write Customers PCollection that lives in other cities' >> beam.io.WriteToText(\"customers_other_cities\")\n",
        "customer_withname_J  | 'Write Customers names with J PCollection' >> beam.io.WriteToText(\"customers_names_j\")\n",
        "\n",
        "\n",
        "p1.run()"
      ],
      "metadata": {
        "colab": {
          "base_uri": "https://localhost:8080/"
        },
        "id": "19MiT3zyGbU3",
        "outputId": "e423b9fe-d3db-4874-99d0-6f0872168dda"
      },
      "execution_count": null,
      "outputs": [
        {
          "output_type": "stream",
          "name": "stdout",
          "text": [
            "['3', '7', '10']\n"
          ]
        },
        {
          "output_type": "execute_result",
          "data": {
            "text/plain": [
              "<apache_beam.runners.portability.fn_api_runner.fn_runner.RunnerResult at 0x7f21e523c580>"
            ]
          },
          "metadata": {},
          "execution_count": 89
        }
      ]
    },
    {
      "cell_type": "code",
      "source": [
        "!cat newyork-00000-of-00001"
      ],
      "metadata": {
        "colab": {
          "base_uri": "https://localhost:8080/"
        },
        "id": "L1PJIKX4f10H",
        "outputId": "995ad5d8-a22a-4833-92a5-3ed0366762e1"
      },
      "execution_count": null,
      "outputs": [
        {
          "output_type": "stream",
          "name": "stdout",
          "text": [
            "['1', 'John', 'NY', '22']\n",
            "['6', 'Maria', 'NY', '15']\n",
            "['9', 'Mona', 'NY', '18']\n"
          ]
        }
      ]
    },
    {
      "cell_type": "code",
      "source": [
        "!cat customers_names_j-00000-of-00001"
      ],
      "metadata": {
        "colab": {
          "base_uri": "https://localhost:8080/"
        },
        "id": "vM94uUx-f281",
        "outputId": "41af4ee1-cefe-49dd-c22e-2dfcc15fcf1a"
      },
      "execution_count": null,
      "outputs": [
        {
          "output_type": "stream",
          "name": "stdout",
          "text": [
            "['1', 'John', 'NY', '22']\n",
            "['2', 'Jim', 'LA', '25']\n"
          ]
        }
      ]
    },
    {
      "cell_type": "code",
      "source": [
        "!cat customers_other_cities-00000-of-00001"
      ],
      "metadata": {
        "colab": {
          "base_uri": "https://localhost:8080/"
        },
        "id": "y7q2lJwEf6Ge",
        "outputId": "68c4eaf4-00dd-4366-d82b-ae6b31624e16"
      },
      "execution_count": null,
      "outputs": [
        {
          "output_type": "stream",
          "name": "stdout",
          "text": [
            "['2', 'Jim', 'LA', '25']\n",
            "['4', 'Albert', 'LA', '20']\n",
            "['5', 'Samza.NY', '18']\n",
            "['8', 'Kavita', 'LA', '20']\n"
          ]
        }
      ]
    },
    {
      "cell_type": "code",
      "source": [],
      "metadata": {
        "id": "iTM6K06wgBdq"
      },
      "execution_count": null,
      "outputs": []
    }
  ]
}