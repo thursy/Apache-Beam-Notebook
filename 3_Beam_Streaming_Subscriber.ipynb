{
  "nbformat": 4,
  "nbformat_minor": 0,
  "metadata": {
    "colab": {
      "provenance": [],
      "authorship_tag": "ABX9TyOYS39c4PmT8GRpahtWI8lr",
      "include_colab_link": true
    },
    "kernelspec": {
      "name": "python3",
      "display_name": "Python 3"
    },
    "language_info": {
      "name": "python"
    }
  },
  "cells": [
    {
      "cell_type": "markdown",
      "metadata": {
        "id": "view-in-github",
        "colab_type": "text"
      },
      "source": [
        "<a href=\"https://colab.research.google.com/github/thursy/Apache-Beam-Notebook/blob/main/3_Beam_Streaming_Subscriber.ipynb\" target=\"_parent\"><img src=\"https://colab.research.google.com/assets/colab-badge.svg\" alt=\"Open In Colab\"/></a>"
      ]
    },
    {
      "cell_type": "code",
      "source": [
        "!pip3 install google-cloud-pubsub"
      ],
      "metadata": {
        "id": "3hM6vmykll60"
      },
      "execution_count": null,
      "outputs": []
    },
    {
      "cell_type": "markdown",
      "source": [
        "# Get the output of published result "
      ],
      "metadata": {
        "id": "Fti5M5D6B4ak"
      }
    },
    {
      "cell_type": "code",
      "source": [
        "from google.cloud import pubsub_v1\n",
        "import time\n",
        "import os"
      ],
      "metadata": {
        "id": "KjoLWMy1lmtd"
      },
      "execution_count": null,
      "outputs": []
    },
    {
      "cell_type": "code",
      "source": [
        "os.environ[\"GOOGLE_APPLICATION_CREDENTIALS\"]= 'PATH_TO_SERVICE_ACCOUNT.json'"
      ],
      "metadata": {
        "id": "IFMxTnT3loH9"
      },
      "execution_count": null,
      "outputs": []
    },
    {
      "cell_type": "code",
      "source": [
        "subscription_path = 'projects/PROJECT_ID/subscriptions/SUBS_NAME'\n",
        "subscriber = pubsub_v1.SubscriberClient()"
      ],
      "metadata": {
        "id": "3UT92FJ0lsVi"
      },
      "execution_count": null,
      "outputs": []
    },
    {
      "cell_type": "code",
      "source": [
        "def callback(message):\n",
        "  print(('Recieved Message: {}'.format(message)))\n",
        "  message.ack()\n",
        "\n",
        "subscriber.subscribe(subscription_path,callback=callback)\n",
        "\n",
        "while True:\n",
        "  time.sleep(5)"
      ],
      "metadata": {
        "id": "GTVXgLgDl7LM"
      },
      "execution_count": null,
      "outputs": []
    }
  ]
}